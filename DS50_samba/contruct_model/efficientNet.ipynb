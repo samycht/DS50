{
 "cells": [
  {
   "cell_type": "code",
   "execution_count": 13,
   "id": "de88e120",
   "metadata": {},
   "outputs": [],
   "source": [
    "import numpy as np\n",
    "import pandas as pd\n",
    "import sklearn\n",
    "\n",
    "import cv2\n",
    "import torch\n",
    "from torch.utils.data import DataLoader, Dataset\n",
    "from torch import nn\n",
    "from torch.cuda.amp import GradScaler, autocast\n",
    "import torchvision as tv\n",
    "\n",
    "import os\n",
    "from os import listdir\n",
    "from os.path import isfile, join\n",
    "\n",
    "import wandb\n",
    "import gc\n",
    "from tqdm.notebook import tqdm\n",
    "import ipywidgets as widgets\n",
    "\n",
    "import matplotlib.pyplot as plt\n",
    "from sklearn.datasets import make_classification\n",
    "from sklearn.metrics import confusion_matrix, ConfusionMatrixDisplay"
   ]
  },
  {
   "cell_type": "code",
   "execution_count": 14,
   "id": "e954ad17",
   "metadata": {},
   "outputs": [
    {
     "name": "stdout",
     "output_type": "stream",
     "text": [
      "cuda\n"
     ]
    }
   ],
   "source": [
    "VERSION = 'efficientNet'\n",
    "BATCH_SIZE = 16\n",
    "MAX_TRAIN_BATCHES = 613 // BATCH_SIZE\n",
    "MAX_VAL_BATCHES = 72 // BATCH_SIZE\n",
    "MAX_TEST_BATCHES = 315 // BATCH_SIZE\n",
    "IMAGE_WIDTH = 400\n",
    "IMAGE_HEIGTH = 300\n",
    "NB_EPOCHS = 4\n",
    "DEVICE = \"cuda\" if torch.cuda.is_available() else \"cpu\"\n",
    "TRAIN_MODEL = True\n",
    "print(DEVICE)"
   ]
  },
  {
   "cell_type": "code",
   "execution_count": 15,
   "id": "99dfc449",
   "metadata": {},
   "outputs": [
    {
     "name": "stdout",
     "output_type": "stream",
     "text": [
      "Taille du dataset train_adenocarcinoma_images : 195\n",
      "Taille du dataset train_large_cell_carcinoma_images : 115\n",
      "Taille du dataset train_normal_images : 148\n",
      "Taille du dataset train_squamous_cell_carcinoma_images : 155\n",
      "Taille du dataset valid_adenocarcinoma_images : 23\n",
      "Taille du dataset valid_large_cell_carcinoma_images : 21\n",
      "Taille du dataset valid_normal_images : 13\n",
      "Taille du dataset valid_squamous_cell_carcinoma_images : 15\n",
      "Taille du dataset test_adenocarcinoma_images : 120\n",
      "Taille du dataset test_large_cell_carcinoma_images : 51\n",
      "Taille du dataset test_normal_images : 54\n",
      "Taille du dataset test_squamous_cell_carcinoma_images : 90\n"
     ]
    }
   ],
   "source": [
    "dataset_types = ['train','valid','test']\n",
    "\n",
    "images_lists = {}\n",
    "for dataset_type in dataset_types:\n",
    "    for cancer_type in ['adenocarcinoma','large_cell_carcinoma','normal','squamous_cell_carcinoma']:\n",
    "        images_lists[f'{dataset_type}_{cancer_type}_images'] = [f'C:\\\\Users\\\\galse\\\\DS50_SAMBA\\\\images\\\\{dataset_type}\\\\{cancer_type}\\\\{i}' \n",
    "                                                                for i in listdir(f'C:\\\\Users\\\\galse\\\\DS50_SAMBA\\\\images\\\\{dataset_type}\\\\{cancer_type}')]\n",
    "        print(f\"Taille du dataset {dataset_type}_{cancer_type}_images : {len(images_lists[f'{dataset_type}_{cancer_type}_images'])}\")\n",
    "\n",
    "# We can see that the datasets are balanced"
   ]
  },
  {
   "cell_type": "code",
   "execution_count": 16,
   "id": "cabed18e",
   "metadata": {},
   "outputs": [],
   "source": [
    "dataframes = {}\n",
    "for dataset_type in dataset_types:\n",
    "    dataframes[f'{dataset_type}'] = pd.DataFrame(columns=['image_id','label'])\n",
    "    dataframes[f'{dataset_type}']['image_id'] = images_lists[f'{dataset_type}_adenocarcinoma_images'] + images_lists[f'{dataset_type}_large_cell_carcinoma_images'] + images_lists[f'{dataset_type}_normal_images'] + images_lists[f'{dataset_type}_squamous_cell_carcinoma_images']\n",
    "    \n",
    "    dataframes[f'{dataset_type}']['label'] = np.zeros_like(images_lists[f'{dataset_type}_adenocarcinoma_images'],dtype=int).tolist()+np.ones_like(images_lists[f'{dataset_type}_large_cell_carcinoma_images'],dtype=int).tolist()+np.full_like(images_lists[f'{dataset_type}_normal_images'],2,dtype=int).tolist()+np.full_like(images_lists[f'{dataset_type}_squamous_cell_carcinoma_images'],3,dtype=int).tolist()"
   ]
  },
  {
   "cell_type": "code",
   "execution_count": 17,
   "id": "e781fa28",
   "metadata": {},
   "outputs": [
    {
     "data": {
      "text/html": [
       "<div>\n",
       "<style scoped>\n",
       "    .dataframe tbody tr th:only-of-type {\n",
       "        vertical-align: middle;\n",
       "    }\n",
       "\n",
       "    .dataframe tbody tr th {\n",
       "        vertical-align: top;\n",
       "    }\n",
       "\n",
       "    .dataframe thead th {\n",
       "        text-align: right;\n",
       "    }\n",
       "</style>\n",
       "<table border=\"1\" class=\"dataframe\">\n",
       "  <thead>\n",
       "    <tr style=\"text-align: right;\">\n",
       "      <th></th>\n",
       "      <th>image_id</th>\n",
       "      <th>label</th>\n",
       "    </tr>\n",
       "  </thead>\n",
       "  <tbody>\n",
       "    <tr>\n",
       "      <th>0</th>\n",
       "      <td>C:\\Users\\galse\\DS50_SAMBA\\images\\train\\adenoca...</td>\n",
       "      <td>0</td>\n",
       "    </tr>\n",
       "    <tr>\n",
       "      <th>1</th>\n",
       "      <td>C:\\Users\\galse\\DS50_SAMBA\\images\\train\\adenoca...</td>\n",
       "      <td>0</td>\n",
       "    </tr>\n",
       "    <tr>\n",
       "      <th>2</th>\n",
       "      <td>C:\\Users\\galse\\DS50_SAMBA\\images\\train\\adenoca...</td>\n",
       "      <td>0</td>\n",
       "    </tr>\n",
       "    <tr>\n",
       "      <th>3</th>\n",
       "      <td>C:\\Users\\galse\\DS50_SAMBA\\images\\train\\adenoca...</td>\n",
       "      <td>0</td>\n",
       "    </tr>\n",
       "    <tr>\n",
       "      <th>4</th>\n",
       "      <td>C:\\Users\\galse\\DS50_SAMBA\\images\\train\\adenoca...</td>\n",
       "      <td>0</td>\n",
       "    </tr>\n",
       "  </tbody>\n",
       "</table>\n",
       "</div>"
      ],
      "text/plain": [
       "                                            image_id  label\n",
       "0  C:\\Users\\galse\\DS50_SAMBA\\images\\train\\adenoca...      0\n",
       "1  C:\\Users\\galse\\DS50_SAMBA\\images\\train\\adenoca...      0\n",
       "2  C:\\Users\\galse\\DS50_SAMBA\\images\\train\\adenoca...      0\n",
       "3  C:\\Users\\galse\\DS50_SAMBA\\images\\train\\adenoca...      0\n",
       "4  C:\\Users\\galse\\DS50_SAMBA\\images\\train\\adenoca...      0"
      ]
     },
     "execution_count": 17,
     "metadata": {},
     "output_type": "execute_result"
    }
   ],
   "source": [
    "dataframes['train'].head()"
   ]
  },
  {
   "cell_type": "code",
   "execution_count": 18,
   "id": "48ac8d04",
   "metadata": {},
   "outputs": [
    {
     "name": "stdout",
     "output_type": "stream",
     "text": [
      "613 72 315\n"
     ]
    }
   ],
   "source": [
    "print(len(dataframes['train']),len(dataframes['valid']),len(dataframes['test']))"
   ]
  },
  {
   "cell_type": "code",
   "execution_count": 19,
   "id": "2b87131c",
   "metadata": {},
   "outputs": [
    {
     "data": {
      "text/html": [
       "<div>\n",
       "<style scoped>\n",
       "    .dataframe tbody tr th:only-of-type {\n",
       "        vertical-align: middle;\n",
       "    }\n",
       "\n",
       "    .dataframe tbody tr th {\n",
       "        vertical-align: top;\n",
       "    }\n",
       "\n",
       "    .dataframe thead th {\n",
       "        text-align: right;\n",
       "    }\n",
       "</style>\n",
       "<table border=\"1\" class=\"dataframe\">\n",
       "  <thead>\n",
       "    <tr style=\"text-align: right;\">\n",
       "      <th></th>\n",
       "      <th>image_id</th>\n",
       "      <th>label</th>\n",
       "    </tr>\n",
       "  </thead>\n",
       "  <tbody>\n",
       "    <tr>\n",
       "      <th>0</th>\n",
       "      <td>C:\\Users\\galse\\DS50_SAMBA\\images\\valid\\adenoca...</td>\n",
       "      <td>0</td>\n",
       "    </tr>\n",
       "    <tr>\n",
       "      <th>1</th>\n",
       "      <td>C:\\Users\\galse\\DS50_SAMBA\\images\\valid\\adenoca...</td>\n",
       "      <td>0</td>\n",
       "    </tr>\n",
       "    <tr>\n",
       "      <th>2</th>\n",
       "      <td>C:\\Users\\galse\\DS50_SAMBA\\images\\valid\\adenoca...</td>\n",
       "      <td>0</td>\n",
       "    </tr>\n",
       "    <tr>\n",
       "      <th>3</th>\n",
       "      <td>C:\\Users\\galse\\DS50_SAMBA\\images\\valid\\adenoca...</td>\n",
       "      <td>0</td>\n",
       "    </tr>\n",
       "    <tr>\n",
       "      <th>4</th>\n",
       "      <td>C:\\Users\\galse\\DS50_SAMBA\\images\\valid\\adenoca...</td>\n",
       "      <td>0</td>\n",
       "    </tr>\n",
       "    <tr>\n",
       "      <th>5</th>\n",
       "      <td>C:\\Users\\galse\\DS50_SAMBA\\images\\valid\\adenoca...</td>\n",
       "      <td>0</td>\n",
       "    </tr>\n",
       "    <tr>\n",
       "      <th>6</th>\n",
       "      <td>C:\\Users\\galse\\DS50_SAMBA\\images\\valid\\adenoca...</td>\n",
       "      <td>0</td>\n",
       "    </tr>\n",
       "    <tr>\n",
       "      <th>7</th>\n",
       "      <td>C:\\Users\\galse\\DS50_SAMBA\\images\\valid\\adenoca...</td>\n",
       "      <td>0</td>\n",
       "    </tr>\n",
       "    <tr>\n",
       "      <th>8</th>\n",
       "      <td>C:\\Users\\galse\\DS50_SAMBA\\images\\valid\\adenoca...</td>\n",
       "      <td>0</td>\n",
       "    </tr>\n",
       "    <tr>\n",
       "      <th>9</th>\n",
       "      <td>C:\\Users\\galse\\DS50_SAMBA\\images\\valid\\adenoca...</td>\n",
       "      <td>0</td>\n",
       "    </tr>\n",
       "    <tr>\n",
       "      <th>10</th>\n",
       "      <td>C:\\Users\\galse\\DS50_SAMBA\\images\\valid\\adenoca...</td>\n",
       "      <td>0</td>\n",
       "    </tr>\n",
       "    <tr>\n",
       "      <th>11</th>\n",
       "      <td>C:\\Users\\galse\\DS50_SAMBA\\images\\valid\\adenoca...</td>\n",
       "      <td>0</td>\n",
       "    </tr>\n",
       "    <tr>\n",
       "      <th>12</th>\n",
       "      <td>C:\\Users\\galse\\DS50_SAMBA\\images\\valid\\adenoca...</td>\n",
       "      <td>0</td>\n",
       "    </tr>\n",
       "    <tr>\n",
       "      <th>13</th>\n",
       "      <td>C:\\Users\\galse\\DS50_SAMBA\\images\\valid\\adenoca...</td>\n",
       "      <td>0</td>\n",
       "    </tr>\n",
       "    <tr>\n",
       "      <th>14</th>\n",
       "      <td>C:\\Users\\galse\\DS50_SAMBA\\images\\valid\\adenoca...</td>\n",
       "      <td>0</td>\n",
       "    </tr>\n",
       "  </tbody>\n",
       "</table>\n",
       "</div>"
      ],
      "text/plain": [
       "                                             image_id  label\n",
       "0   C:\\Users\\galse\\DS50_SAMBA\\images\\valid\\adenoca...      0\n",
       "1   C:\\Users\\galse\\DS50_SAMBA\\images\\valid\\adenoca...      0\n",
       "2   C:\\Users\\galse\\DS50_SAMBA\\images\\valid\\adenoca...      0\n",
       "3   C:\\Users\\galse\\DS50_SAMBA\\images\\valid\\adenoca...      0\n",
       "4   C:\\Users\\galse\\DS50_SAMBA\\images\\valid\\adenoca...      0\n",
       "5   C:\\Users\\galse\\DS50_SAMBA\\images\\valid\\adenoca...      0\n",
       "6   C:\\Users\\galse\\DS50_SAMBA\\images\\valid\\adenoca...      0\n",
       "7   C:\\Users\\galse\\DS50_SAMBA\\images\\valid\\adenoca...      0\n",
       "8   C:\\Users\\galse\\DS50_SAMBA\\images\\valid\\adenoca...      0\n",
       "9   C:\\Users\\galse\\DS50_SAMBA\\images\\valid\\adenoca...      0\n",
       "10  C:\\Users\\galse\\DS50_SAMBA\\images\\valid\\adenoca...      0\n",
       "11  C:\\Users\\galse\\DS50_SAMBA\\images\\valid\\adenoca...      0\n",
       "12  C:\\Users\\galse\\DS50_SAMBA\\images\\valid\\adenoca...      0\n",
       "13  C:\\Users\\galse\\DS50_SAMBA\\images\\valid\\adenoca...      0\n",
       "14  C:\\Users\\galse\\DS50_SAMBA\\images\\valid\\adenoca...      0"
      ]
     },
     "execution_count": 19,
     "metadata": {},
     "output_type": "execute_result"
    }
   ],
   "source": [
    "dataframes['valid'].head(15)"
   ]
  },
  {
   "cell_type": "code",
   "execution_count": 20,
   "id": "39ef6185",
   "metadata": {},
   "outputs": [],
   "source": [
    "class LungsCancerDetectionDataset(Dataset):\n",
    "    def __init__(self, annotations_file,transform=None, target_transform=None):\n",
    "        self.img_labels = annotations_file\n",
    "        self.transform = transform\n",
    "        self.target_transform = target_transform\n",
    "\n",
    "    def __len__(self):\n",
    "        return len(self.img_labels)\n",
    "\n",
    "    def __getitem__(self, idx):\n",
    "        img_path = str(self.img_labels.iloc[idx].image_id)\n",
    "        image = cv2.imread(img_path)\n",
    "        image = cv2.resize(image, (IMAGE_WIDTH,IMAGE_HEIGTH))\n",
    "        image = np.transpose(image, (2, 0, 1))\n",
    "        image = torch.as_tensor(image)\n",
    "        image = image.float()\n",
    "        image = image/255\n",
    "        label = torch.as_tensor(self.img_labels.iloc[idx].label)\n",
    "        return image, label"
   ]
  },
  {
   "cell_type": "code",
   "execution_count": 21,
   "id": "64b1933b",
   "metadata": {},
   "outputs": [],
   "source": [
    "class LungsCancerDetectionModel(nn.Module):\n",
    "    def __init__(self):\n",
    "        super().__init__()\n",
    "        self.model = tv.models.efficientnet_v2_s(pretrained=True)\n",
    "        #self.model = tv.models.resnet34(pretrained=True)\n",
    "        #self.model = tv.models.resnext50_32x4d(pretrained=True)\n",
    "        #self.model = tv.models.googlenet(pretrained=True)\n",
    "        #self.model = tv.models.densenet121(pretrained=True)\n",
    "\n",
    "        self.nn_detection = torch.nn.Sequential(\n",
    "            torch.nn.Linear(1000,4)\n",
    "        )\n",
    "\n",
    "    def forward(self, x):\n",
    "        x = self.model(x)\n",
    "        logits = self.nn_detection(x)\n",
    "        return logits\n",
    "    \n",
    "    def predict(self,logits):\n",
    "        preds = self.forward(logits)\n",
    "        preds = torch.sigmoid(preds)\n",
    "        return preds"
   ]
  },
  {
   "cell_type": "code",
   "execution_count": 22,
   "id": "8a4310c4",
   "metadata": {},
   "outputs": [],
   "source": [
    "def save_model(name, model):\n",
    "    torch.save(model.state_dict(), f'{name}.pt')\n",
    "\n",
    "def load_model(model, name, path='.'):\n",
    "    data = torch.load(os.path.join(path, f'{name}.pt'))\n",
    "    model.load_state_dict(data)\n",
    "    return model\n",
    "\n",
    "def gc_collect():\n",
    "    gc.collect()\n",
    "    torch.cuda.empty_cache()"
   ]
  },
  {
   "cell_type": "code",
   "execution_count": 23,
   "id": "7a173ae7",
   "metadata": {},
   "outputs": [],
   "source": [
    "def train_model(ds_train, logger, name):\n",
    "    \n",
    "    dl_train = torch.utils.data.DataLoader(ds_train, batch_size=BATCH_SIZE, shuffle=True,drop_last=True)\n",
    "    model = LungsCancerDetectionModel().to(DEVICE)\n",
    "    optim = torch.optim.Adam(model.parameters())\n",
    "    \n",
    "    scheduler = torch.optim.lr_scheduler.OneCycleLR(optim, max_lr=0.0015, epochs=NB_EPOCHS,\n",
    "                                                steps_per_epoch=min(MAX_TRAIN_BATCHES, len(dl_train)),\n",
    "                                                pct_start=0.3)\n",
    "    model.train()\n",
    "    scaler = GradScaler()\n",
    "    \n",
    "    for epoch in tqdm(range(NB_EPOCHS), desc='Epoch'):\n",
    "        with tqdm(dl_train, desc='Train') as progress:\n",
    "\n",
    "            for batch_idx, (X, y) in enumerate(progress):\n",
    "\n",
    "                if batch_idx >= MAX_TRAIN_BATCHES:\n",
    "                    save_model(name, model)\n",
    "                    break\n",
    "\n",
    "                optim.zero_grad()\n",
    "                with autocast():\n",
    "                    pred = model.forward(X.to(DEVICE))\n",
    "                    pred = pred.squeeze()\n",
    "                    loss = torch.nn.functional.cross_entropy(pred,y.to(DEVICE))\n",
    "\n",
    "                    if np.isinf(loss.item()) or np.isnan(loss.item()):\n",
    "                        print(f'Bad loss, skipping the batch {batch_idx}')\n",
    "                        del loss, pred\n",
    "                        gc_collect()\n",
    "                        continue\n",
    "\n",
    "                scaler.scale(loss).backward()\n",
    "                scaler.step(optim)\n",
    "                scaler.update()\n",
    "                scheduler.step()\n",
    "\n",
    "                logger.log({'training loss': (loss.item()),\n",
    "                            'learning rate': scheduler.get_last_lr()[0],\n",
    "                            'epoch': epoch})\n",
    "                \n",
    "    save_model(name, model)\n",
    "    return model"
   ]
  },
  {
   "cell_type": "code",
   "execution_count": 24,
   "id": "55114529",
   "metadata": {},
   "outputs": [
    {
     "data": {
      "text/html": [
       "wandb version 0.15.4 is available!  To upgrade, please run:\n",
       " $ pip install wandb --upgrade"
      ],
      "text/plain": [
       "<IPython.core.display.HTML object>"
      ]
     },
     "metadata": {},
     "output_type": "display_data"
    },
    {
     "data": {
      "text/html": [
       "Tracking run with wandb version 0.15.3"
      ],
      "text/plain": [
       "<IPython.core.display.HTML object>"
      ]
     },
     "metadata": {},
     "output_type": "display_data"
    },
    {
     "data": {
      "text/html": [
       "Run data is saved locally in <code>c:\\Users\\galse\\DS50_samba\\contruct_model\\wandb\\run-20230616_165203-v0gwjwj7</code>"
      ],
      "text/plain": [
       "<IPython.core.display.HTML object>"
      ]
     },
     "metadata": {},
     "output_type": "display_data"
    },
    {
     "data": {
      "text/html": [
       "Syncing run <strong><a href='https://wandb.ai/galsen76000/DS50/runs/v0gwjwj7' target=\"_blank\">efficientNet</a></strong> to <a href='https://wandb.ai/galsen76000/DS50' target=\"_blank\">Weights & Biases</a> (<a href='https://wandb.me/run' target=\"_blank\">docs</a>)<br/>"
      ],
      "text/plain": [
       "<IPython.core.display.HTML object>"
      ]
     },
     "metadata": {},
     "output_type": "display_data"
    },
    {
     "data": {
      "text/html": [
       " View project at <a href='https://wandb.ai/galsen76000/DS50' target=\"_blank\">https://wandb.ai/galsen76000/DS50</a>"
      ],
      "text/plain": [
       "<IPython.core.display.HTML object>"
      ]
     },
     "metadata": {},
     "output_type": "display_data"
    },
    {
     "data": {
      "text/html": [
       " View run at <a href='https://wandb.ai/galsen76000/DS50/runs/v0gwjwj7' target=\"_blank\">https://wandb.ai/galsen76000/DS50/runs/v0gwjwj7</a>"
      ],
      "text/plain": [
       "<IPython.core.display.HTML object>"
      ]
     },
     "metadata": {},
     "output_type": "display_data"
    },
    {
     "name": "stderr",
     "output_type": "stream",
     "text": [
      "c:\\Users\\galse\\AppData\\Local\\Programs\\Python\\Python39\\lib\\site-packages\\torchvision\\models\\_utils.py:208: UserWarning: The parameter 'pretrained' is deprecated since 0.13 and may be removed in the future, please use 'weights' instead.\n",
      "  warnings.warn(\n",
      "c:\\Users\\galse\\AppData\\Local\\Programs\\Python\\Python39\\lib\\site-packages\\torchvision\\models\\_utils.py:223: UserWarning: Arguments other than a weight enum or `None` for 'weights' are deprecated since 0.13 and may be removed in the future. The current behavior is equivalent to passing `weights=EfficientNet_V2_S_Weights.IMAGENET1K_V1`. You can also use `weights=EfficientNet_V2_S_Weights.DEFAULT` to get the most up-to-date weights.\n",
      "  warnings.warn(msg)\n"
     ]
    },
    {
     "data": {
      "text/html": [
       "Waiting for W&B process to finish... <strong style=\"color:red\">(failed 1).</strong> Press Ctrl-C to abort syncing."
      ],
      "text/plain": [
       "<IPython.core.display.HTML object>"
      ]
     },
     "metadata": {},
     "output_type": "display_data"
    },
    {
     "data": {
      "application/vnd.jupyter.widget-view+json": {
       "model_id": "c3479648b1f94a949ce3b51b011507e4",
       "version_major": 2,
       "version_minor": 0
      },
      "text/plain": [
       "VBox(children=(Label(value='0.001 MB of 0.006 MB uploaded (0.000 MB deduped)\\r'), FloatProgress(value=0.162433…"
      ]
     },
     "metadata": {},
     "output_type": "display_data"
    },
    {
     "data": {
      "text/html": [
       " View run <strong style=\"color:#cdcd00\">efficientNet</strong> at: <a href='https://wandb.ai/galsen76000/DS50/runs/v0gwjwj7' target=\"_blank\">https://wandb.ai/galsen76000/DS50/runs/v0gwjwj7</a><br/>Synced 5 W&B file(s), 0 media file(s), 0 artifact file(s) and 0 other file(s)"
      ],
      "text/plain": [
       "<IPython.core.display.HTML object>"
      ]
     },
     "metadata": {},
     "output_type": "display_data"
    },
    {
     "data": {
      "text/html": [
       "Find logs at: <code>.\\wandb\\run-20230616_165203-v0gwjwj7\\logs</code>"
      ],
      "text/plain": [
       "<IPython.core.display.HTML object>"
      ]
     },
     "metadata": {},
     "output_type": "display_data"
    },
    {
     "ename": "OutOfMemoryError",
     "evalue": "CUDA out of memory. Tried to allocate 2.00 MiB (GPU 0; 3.00 GiB total capacity; 2.58 GiB already allocated; 0 bytes free; 2.62 GiB reserved in total by PyTorch) If reserved memory is >> allocated memory try setting max_split_size_mb to avoid fragmentation.  See documentation for Memory Management and PYTORCH_CUDA_ALLOC_CONF",
     "output_type": "error",
     "traceback": [
      "\u001b[1;31m---------------------------------------------------------------------------\u001b[0m",
      "\u001b[1;31mOutOfMemoryError\u001b[0m                          Traceback (most recent call last)",
      "Cell \u001b[1;32mIn[24], line 5\u001b[0m\n\u001b[0;32m      3\u001b[0m         gc_collect()\n\u001b[0;32m      4\u001b[0m         ds_train \u001b[39m=\u001b[39m LungsCancerDetectionDataset(dataframes[\u001b[39m'\u001b[39m\u001b[39mtrain\u001b[39m\u001b[39m'\u001b[39m])\n\u001b[1;32m----> 5\u001b[0m         model \u001b[39m=\u001b[39m train_model(ds_train,run,VERSION)\n\u001b[0;32m      6\u001b[0m \u001b[39melse\u001b[39;00m:\n\u001b[0;32m      7\u001b[0m     model \u001b[39m=\u001b[39m load_model(LungsCancerDetectionModel()\u001b[39m.\u001b[39mto(DEVICE),\u001b[39m\"\u001b[39m\u001b[39mDenseNet_V2\u001b[39m\u001b[39m\"\u001b[39m)\n",
      "Cell \u001b[1;32mIn[23], line 4\u001b[0m, in \u001b[0;36mtrain_model\u001b[1;34m(ds_train, logger, name)\u001b[0m\n\u001b[0;32m      1\u001b[0m \u001b[39mdef\u001b[39;00m \u001b[39mtrain_model\u001b[39m(ds_train, logger, name):\n\u001b[0;32m      3\u001b[0m     dl_train \u001b[39m=\u001b[39m torch\u001b[39m.\u001b[39mutils\u001b[39m.\u001b[39mdata\u001b[39m.\u001b[39mDataLoader(ds_train, batch_size\u001b[39m=\u001b[39mBATCH_SIZE, shuffle\u001b[39m=\u001b[39m\u001b[39mTrue\u001b[39;00m,drop_last\u001b[39m=\u001b[39m\u001b[39mTrue\u001b[39;00m)\n\u001b[1;32m----> 4\u001b[0m     model \u001b[39m=\u001b[39m LungsCancerDetectionModel()\u001b[39m.\u001b[39;49mto(DEVICE)\n\u001b[0;32m      5\u001b[0m     optim \u001b[39m=\u001b[39m torch\u001b[39m.\u001b[39moptim\u001b[39m.\u001b[39mAdam(model\u001b[39m.\u001b[39mparameters())\n\u001b[0;32m      7\u001b[0m     scheduler \u001b[39m=\u001b[39m torch\u001b[39m.\u001b[39moptim\u001b[39m.\u001b[39mlr_scheduler\u001b[39m.\u001b[39mOneCycleLR(optim, max_lr\u001b[39m=\u001b[39m\u001b[39m0.0015\u001b[39m, epochs\u001b[39m=\u001b[39mNB_EPOCHS,\n\u001b[0;32m      8\u001b[0m                                                 steps_per_epoch\u001b[39m=\u001b[39m\u001b[39mmin\u001b[39m(MAX_TRAIN_BATCHES, \u001b[39mlen\u001b[39m(dl_train)),\n\u001b[0;32m      9\u001b[0m                                                 pct_start\u001b[39m=\u001b[39m\u001b[39m0.3\u001b[39m)\n",
      "File \u001b[1;32mc:\\Users\\galse\\AppData\\Local\\Programs\\Python\\Python39\\lib\\site-packages\\torch\\nn\\modules\\module.py:1145\u001b[0m, in \u001b[0;36mModule.to\u001b[1;34m(self, *args, **kwargs)\u001b[0m\n\u001b[0;32m   1141\u001b[0m         \u001b[39mreturn\u001b[39;00m t\u001b[39m.\u001b[39mto(device, dtype \u001b[39mif\u001b[39;00m t\u001b[39m.\u001b[39mis_floating_point() \u001b[39mor\u001b[39;00m t\u001b[39m.\u001b[39mis_complex() \u001b[39melse\u001b[39;00m \u001b[39mNone\u001b[39;00m,\n\u001b[0;32m   1142\u001b[0m                     non_blocking, memory_format\u001b[39m=\u001b[39mconvert_to_format)\n\u001b[0;32m   1143\u001b[0m     \u001b[39mreturn\u001b[39;00m t\u001b[39m.\u001b[39mto(device, dtype \u001b[39mif\u001b[39;00m t\u001b[39m.\u001b[39mis_floating_point() \u001b[39mor\u001b[39;00m t\u001b[39m.\u001b[39mis_complex() \u001b[39melse\u001b[39;00m \u001b[39mNone\u001b[39;00m, non_blocking)\n\u001b[1;32m-> 1145\u001b[0m \u001b[39mreturn\u001b[39;00m \u001b[39mself\u001b[39;49m\u001b[39m.\u001b[39;49m_apply(convert)\n",
      "File \u001b[1;32mc:\\Users\\galse\\AppData\\Local\\Programs\\Python\\Python39\\lib\\site-packages\\torch\\nn\\modules\\module.py:797\u001b[0m, in \u001b[0;36mModule._apply\u001b[1;34m(self, fn)\u001b[0m\n\u001b[0;32m    795\u001b[0m \u001b[39mdef\u001b[39;00m \u001b[39m_apply\u001b[39m(\u001b[39mself\u001b[39m, fn):\n\u001b[0;32m    796\u001b[0m     \u001b[39mfor\u001b[39;00m module \u001b[39min\u001b[39;00m \u001b[39mself\u001b[39m\u001b[39m.\u001b[39mchildren():\n\u001b[1;32m--> 797\u001b[0m         module\u001b[39m.\u001b[39;49m_apply(fn)\n\u001b[0;32m    799\u001b[0m     \u001b[39mdef\u001b[39;00m \u001b[39mcompute_should_use_set_data\u001b[39m(tensor, tensor_applied):\n\u001b[0;32m    800\u001b[0m         \u001b[39mif\u001b[39;00m torch\u001b[39m.\u001b[39m_has_compatible_shallow_copy_type(tensor, tensor_applied):\n\u001b[0;32m    801\u001b[0m             \u001b[39m# If the new tensor has compatible tensor type as the existing tensor,\u001b[39;00m\n\u001b[0;32m    802\u001b[0m             \u001b[39m# the current behavior is to change the tensor in-place using `.data =`,\u001b[39;00m\n\u001b[1;32m   (...)\u001b[0m\n\u001b[0;32m    807\u001b[0m             \u001b[39m# global flag to let the user control whether they want the future\u001b[39;00m\n\u001b[0;32m    808\u001b[0m             \u001b[39m# behavior of overwriting the existing tensor or not.\u001b[39;00m\n",
      "File \u001b[1;32mc:\\Users\\galse\\AppData\\Local\\Programs\\Python\\Python39\\lib\\site-packages\\torch\\nn\\modules\\module.py:797\u001b[0m, in \u001b[0;36mModule._apply\u001b[1;34m(self, fn)\u001b[0m\n\u001b[0;32m    795\u001b[0m \u001b[39mdef\u001b[39;00m \u001b[39m_apply\u001b[39m(\u001b[39mself\u001b[39m, fn):\n\u001b[0;32m    796\u001b[0m     \u001b[39mfor\u001b[39;00m module \u001b[39min\u001b[39;00m \u001b[39mself\u001b[39m\u001b[39m.\u001b[39mchildren():\n\u001b[1;32m--> 797\u001b[0m         module\u001b[39m.\u001b[39;49m_apply(fn)\n\u001b[0;32m    799\u001b[0m     \u001b[39mdef\u001b[39;00m \u001b[39mcompute_should_use_set_data\u001b[39m(tensor, tensor_applied):\n\u001b[0;32m    800\u001b[0m         \u001b[39mif\u001b[39;00m torch\u001b[39m.\u001b[39m_has_compatible_shallow_copy_type(tensor, tensor_applied):\n\u001b[0;32m    801\u001b[0m             \u001b[39m# If the new tensor has compatible tensor type as the existing tensor,\u001b[39;00m\n\u001b[0;32m    802\u001b[0m             \u001b[39m# the current behavior is to change the tensor in-place using `.data =`,\u001b[39;00m\n\u001b[1;32m   (...)\u001b[0m\n\u001b[0;32m    807\u001b[0m             \u001b[39m# global flag to let the user control whether they want the future\u001b[39;00m\n\u001b[0;32m    808\u001b[0m             \u001b[39m# behavior of overwriting the existing tensor or not.\u001b[39;00m\n",
      "    \u001b[1;31m[... skipping similar frames: Module._apply at line 797 (4 times)]\u001b[0m\n",
      "File \u001b[1;32mc:\\Users\\galse\\AppData\\Local\\Programs\\Python\\Python39\\lib\\site-packages\\torch\\nn\\modules\\module.py:797\u001b[0m, in \u001b[0;36mModule._apply\u001b[1;34m(self, fn)\u001b[0m\n\u001b[0;32m    795\u001b[0m \u001b[39mdef\u001b[39;00m \u001b[39m_apply\u001b[39m(\u001b[39mself\u001b[39m, fn):\n\u001b[0;32m    796\u001b[0m     \u001b[39mfor\u001b[39;00m module \u001b[39min\u001b[39;00m \u001b[39mself\u001b[39m\u001b[39m.\u001b[39mchildren():\n\u001b[1;32m--> 797\u001b[0m         module\u001b[39m.\u001b[39;49m_apply(fn)\n\u001b[0;32m    799\u001b[0m     \u001b[39mdef\u001b[39;00m \u001b[39mcompute_should_use_set_data\u001b[39m(tensor, tensor_applied):\n\u001b[0;32m    800\u001b[0m         \u001b[39mif\u001b[39;00m torch\u001b[39m.\u001b[39m_has_compatible_shallow_copy_type(tensor, tensor_applied):\n\u001b[0;32m    801\u001b[0m             \u001b[39m# If the new tensor has compatible tensor type as the existing tensor,\u001b[39;00m\n\u001b[0;32m    802\u001b[0m             \u001b[39m# the current behavior is to change the tensor in-place using `.data =`,\u001b[39;00m\n\u001b[1;32m   (...)\u001b[0m\n\u001b[0;32m    807\u001b[0m             \u001b[39m# global flag to let the user control whether they want the future\u001b[39;00m\n\u001b[0;32m    808\u001b[0m             \u001b[39m# behavior of overwriting the existing tensor or not.\u001b[39;00m\n",
      "File \u001b[1;32mc:\\Users\\galse\\AppData\\Local\\Programs\\Python\\Python39\\lib\\site-packages\\torch\\nn\\modules\\module.py:820\u001b[0m, in \u001b[0;36mModule._apply\u001b[1;34m(self, fn)\u001b[0m\n\u001b[0;32m    816\u001b[0m \u001b[39m# Tensors stored in modules are graph leaves, and we don't want to\u001b[39;00m\n\u001b[0;32m    817\u001b[0m \u001b[39m# track autograd history of `param_applied`, so we have to use\u001b[39;00m\n\u001b[0;32m    818\u001b[0m \u001b[39m# `with torch.no_grad():`\u001b[39;00m\n\u001b[0;32m    819\u001b[0m \u001b[39mwith\u001b[39;00m torch\u001b[39m.\u001b[39mno_grad():\n\u001b[1;32m--> 820\u001b[0m     param_applied \u001b[39m=\u001b[39m fn(param)\n\u001b[0;32m    821\u001b[0m should_use_set_data \u001b[39m=\u001b[39m compute_should_use_set_data(param, param_applied)\n\u001b[0;32m    822\u001b[0m \u001b[39mif\u001b[39;00m should_use_set_data:\n",
      "File \u001b[1;32mc:\\Users\\galse\\AppData\\Local\\Programs\\Python\\Python39\\lib\\site-packages\\torch\\nn\\modules\\module.py:1143\u001b[0m, in \u001b[0;36mModule.to.<locals>.convert\u001b[1;34m(t)\u001b[0m\n\u001b[0;32m   1140\u001b[0m \u001b[39mif\u001b[39;00m convert_to_format \u001b[39mis\u001b[39;00m \u001b[39mnot\u001b[39;00m \u001b[39mNone\u001b[39;00m \u001b[39mand\u001b[39;00m t\u001b[39m.\u001b[39mdim() \u001b[39min\u001b[39;00m (\u001b[39m4\u001b[39m, \u001b[39m5\u001b[39m):\n\u001b[0;32m   1141\u001b[0m     \u001b[39mreturn\u001b[39;00m t\u001b[39m.\u001b[39mto(device, dtype \u001b[39mif\u001b[39;00m t\u001b[39m.\u001b[39mis_floating_point() \u001b[39mor\u001b[39;00m t\u001b[39m.\u001b[39mis_complex() \u001b[39melse\u001b[39;00m \u001b[39mNone\u001b[39;00m,\n\u001b[0;32m   1142\u001b[0m                 non_blocking, memory_format\u001b[39m=\u001b[39mconvert_to_format)\n\u001b[1;32m-> 1143\u001b[0m \u001b[39mreturn\u001b[39;00m t\u001b[39m.\u001b[39;49mto(device, dtype \u001b[39mif\u001b[39;49;00m t\u001b[39m.\u001b[39;49mis_floating_point() \u001b[39mor\u001b[39;49;00m t\u001b[39m.\u001b[39;49mis_complex() \u001b[39melse\u001b[39;49;00m \u001b[39mNone\u001b[39;49;00m, non_blocking)\n",
      "\u001b[1;31mOutOfMemoryError\u001b[0m: CUDA out of memory. Tried to allocate 2.00 MiB (GPU 0; 3.00 GiB total capacity; 2.58 GiB already allocated; 0 bytes free; 2.62 GiB reserved in total by PyTorch) If reserved memory is >> allocated memory try setting max_split_size_mb to avoid fragmentation.  See documentation for Memory Management and PYTORCH_CUDA_ALLOC_CONF"
     ]
    }
   ],
   "source": [
    "if TRAIN_MODEL == True :\n",
    "    with wandb.init(project='DS50', name=VERSION) as run:\n",
    "        gc_collect()\n",
    "        ds_train = LungsCancerDetectionDataset(dataframes['train'])\n",
    "        model = train_model(ds_train,run,VERSION)\n",
    "else:\n",
    "    model = load_model(LungsCancerDetectionModel().to(DEVICE),\"DenseNet_V2\")"
   ]
  },
  {
   "cell_type": "code",
   "execution_count": null,
   "id": "55956b4e",
   "metadata": {},
   "outputs": [],
   "source": [
    "def evaluate_model(model, ds, max_batches):\n",
    "    model = model.to(DEVICE)\n",
    "    dl_val = torch.utils.data.DataLoader(ds, batch_size=BATCH_SIZE, shuffle=False,drop_last=True)\n",
    "    preds = []\n",
    "    labels = []\n",
    "    with torch.no_grad():\n",
    "        model.eval()\n",
    "        losses = []\n",
    "        with tqdm(dl_val, desc='Val') as progress:\n",
    "            for i, (X, y) in enumerate(progress):\n",
    "                with autocast():\n",
    "                    pred = model.forward(X.to(DEVICE))\n",
    "                    pred = pred.squeeze()\n",
    "                    loss = torch.nn.functional.cross_entropy(pred,y.to(DEVICE))\n",
    "                    pred = torch.sigmoid(pred)\n",
    "                    preds.append(pred.cpu())\n",
    "                    losses.append(loss.cpu())\n",
    "                    labels.append(y.cpu().numpy())\n",
    "                    \n",
    "                if i >= max_batches:\n",
    "                    break\n",
    "        preds = torch.concat(preds).cpu().numpy()\n",
    "        labels = np.concatenate(labels)\n",
    "        return np.mean(losses), preds"
   ]
  },
  {
   "cell_type": "code",
   "execution_count": null,
   "id": "90689abd",
   "metadata": {},
   "outputs": [
    {
     "data": {
      "application/vnd.jupyter.widget-view+json": {
       "model_id": "c53277c25c4a4db68cfd1d91ae3f9e0d",
       "version_major": 2,
       "version_minor": 0
      },
      "text/plain": [
       "Val:   0%|          | 0/2 [00:00<?, ?it/s]"
      ]
     },
     "metadata": {},
     "output_type": "display_data"
    },
    {
     "data": {
      "image/png": "[encoded data removed]",
      "text/plain": [
       "<Figure size 640x480 with 2 Axes>"
      ]
     },
     "metadata": {},
     "output_type": "display_data"
    },
    {
     "name": "stdout",
     "output_type": "stream",
     "text": [
      "Accuracy on valid dataset :  0.84375\n"
     ]
    },
    {
     "data": {
      "application/vnd.jupyter.widget-view+json": {
       "model_id": "6629d14b8c664695b8def4e2e884dd62",
       "version_major": 2,
       "version_minor": 0
      },
      "text/plain": [
       "Val:   0%|          | 0/9 [00:00<?, ?it/s]"
      ]
     },
     "metadata": {},
     "output_type": "display_data"
    },
    {
     "data": {
      "image/png": "[encoded data removed]",
      "text/plain": [
       "<Figure size 640x480 with 2 Axes>"
      ]
     },
     "metadata": {},
     "output_type": "display_data"
    },
    {
     "name": "stdout",
     "output_type": "stream",
     "text": [
      "Accuracy on test dataset :  0.8645833333333334\n"
     ]
    }
   ],
   "source": [
    "def make_predictions(model,dataset_type, max_batches):\n",
    "    ds_eval = LungsCancerDetectionDataset(dataframes[dataset_type])\n",
    "    loss, y_pred = evaluate_model(model, ds_eval, max_batches)\n",
    "    y_pred = pd.DataFrame(data=y_pred,columns=['0','1','2','3'])\n",
    "    y_pred = y_pred.idxmax(axis=1).to_numpy(dtype='float32')\n",
    "    cm = confusion_matrix(dataframes[dataset_type]['label'].head(len(y_pred)),y_pred)\n",
    "    disp_cm = ConfusionMatrixDisplay(confusion_matrix=cm)\n",
    "    disp_cm.plot()\n",
    "    plt.show()\n",
    "\n",
    "    correct_predictions = cm.diagonal().sum()\n",
    "    total_samples = cm.sum()\n",
    "    accuracy = correct_predictions / total_samples\n",
    "    print(f\"Accuracy on {dataset_type} dataset : \", accuracy)\n",
    "    \n",
    "make_predictions(model,'valid',MAX_VAL_BATCHES)\n",
    "make_predictions(model,'test',MAX_TEST_BATCHES)"
   ]
  }
 ],
 "metadata": {
  "kernelspec": {
   "display_name": "Python 3",
   "language": "python",
   "name": "python3"
  },
  "language_info": {
   "codemirror_mode": {
    "name": "ipython",
    "version": 3
   },
   "file_extension": ".py",
   "mimetype": "text/x-python",
   "name": "python",
   "nbconvert_exporter": "python",
   "pygments_lexer": "ipython3",
   "version": "3.9.5"
  }
 },
 "nbformat": 4,
 "nbformat_minor": 5
}
