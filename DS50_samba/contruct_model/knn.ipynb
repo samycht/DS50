{
 "cells": [
  {
   "cell_type": "code",
   "execution_count": 2,
   "metadata": {},
   "outputs": [],
   "source": [
    "import os\n",
    "import cv2\n",
    "import numpy as np\n",
    "from sklearn.model_selection import GridSearchCV\n",
    "from sklearn.neighbors import KNeighborsClassifier\n",
    "from sklearn.metrics import confusion_matrix, ConfusionMatrixDisplay\n",
    "from joblib import dump\n",
    "import matplotlib.pyplot as plt"
   ]
  },
  {
   "cell_type": "code",
   "execution_count": 3,
   "metadata": {},
   "outputs": [],
   "source": [
    "train_data_path = \"C:/Users/galse/DS50_SAMBA/images/train\"\n",
    "valid_data_path = \"C:/Users/galse/DS50_SAMBA/images/valid\"\n",
    "test_data_path = \"C:/Users/galse/DS50_SAMBA/images/test\"\n",
    "train_classes = os.listdir(train_data_path)\n",
    "valid_classes = os.listdir(valid_data_path)\n",
    "test_classes = os.listdir(test_data_path)\n",
    "\n",
    "IMAGE_HEIGHT = 435\n",
    "IMAGE_WIDTH = 303"
   ]
  },
  {
   "cell_type": "code",
   "execution_count": 4,
   "metadata": {},
   "outputs": [],
   "source": [
    "train_images = []\n",
    "train_labels = []\n",
    "valid_images = []\n",
    "valid_labels = []\n",
    "test_images = []\n",
    "test_labels = []\n",
    "\n",
    "# chargement des images et labels d'entrainement\n",
    "for i, class_name in enumerate(train_classes):\n",
    "    class_path = os.path.join(train_data_path, class_name)\n",
    "    for image_name in os.listdir(class_path):\n",
    "        image_path = os.path.join(class_path, image_name)\n",
    "        image = cv2.imread(image_path)\n",
    "        # Redimensionner l'image à une taille fixe (taille moyenne des images)\n",
    "        resized_image = cv2.resize(image, (IMAGE_HEIGHT, IMAGE_WIDTH))\n",
    "        # Aplatissement de l'image en une seule dimension\n",
    "        flattened_image = resized_image.reshape(-1)\n",
    "        train_images.append(flattened_image)\n",
    "        train_labels.append(i)\n",
    "\n",
    "# chargement des images et labels de test\n",
    "for i, class_name in enumerate(valid_classes):\n",
    "    class_path = os.path.join(valid_data_path, class_name)\n",
    "    for image_name in os.listdir(class_path):\n",
    "        image_path = os.path.join(class_path, image_name)\n",
    "        image = cv2.imread(image_path)\n",
    "        # Redimensionner l'image à une taille fixe (taille moyenne des images)\n",
    "        resized_image = cv2.resize(image, (IMAGE_HEIGHT, IMAGE_WIDTH))\n",
    "        # Aplatissement de l'image en une seule dimension\n",
    "        flattened_image = resized_image.reshape(-1)\n",
    "        valid_images.append(flattened_image)\n",
    "        valid_labels.append(i)\n",
    "\n",
    "# chargement des images et labels de test\n",
    "for i, class_name in enumerate(test_classes):\n",
    "    class_path = os.path.join(test_data_path, class_name)\n",
    "    for image_name in os.listdir(class_path):\n",
    "        image_path = os.path.join(class_path, image_name)\n",
    "        image = cv2.imread(image_path)\n",
    "        # Redimensionner l'image à une taille fixe (taille moyenne des images)\n",
    "        resized_image = cv2.resize(image, (IMAGE_HEIGHT, IMAGE_WIDTH))\n",
    "        # Aplatissement de l'image en une seule dimension\n",
    "        flattened_image = resized_image.reshape(-1)\n",
    "        test_images.append(flattened_image)\n",
    "        test_labels.append(i)\n",
    "\n",
    "# Conversion des listes en tableaux NumPy\n",
    "train_images = np.array(train_images)\n",
    "train_labels = np.array(train_labels)\n",
    "valid_images = np.array(valid_images)\n",
    "valid_labels = np.array(valid_labels)\n",
    "test_images = np.array(test_images)\n",
    "test_labels = np.array(test_labels)"
   ]
  },
  {
   "cell_type": "code",
   "execution_count": 5,
   "metadata": {},
   "outputs": [],
   "source": [
    "# Affectation des données d'entrainement et de test\n",
    "X_train = train_images\n",
    "y_train = train_labels\n",
    "X_valid = valid_images\n",
    "y_valid = valid_labels\n",
    "X_test = test_images\n",
    "y_test = test_labels"
   ]
  },
  {
   "cell_type": "code",
   "execution_count": 6,
   "metadata": {},
   "outputs": [
    {
     "name": "stdout",
     "output_type": "stream",
     "text": [
      "Mean Accuracy: 0.7502332400373184 Parameters: {'n_neighbors': 1}\n",
      "Mean Accuracy: 0.7664534186325469 Parameters: {'n_neighbors': 3}\n",
      "Mean Accuracy: 0.7321471411435427 Parameters: {'n_neighbors': 5}\n",
      "Mean Accuracy: 0.7158603225376516 Parameters: {'n_neighbors': 7}\n",
      "Mean Accuracy: 0.7126082900173264 Parameters: {'n_neighbors': 9}\n",
      "Best k: 3\n"
     ]
    }
   ],
   "source": [
    "# Définir les hyperparamètres à tester\n",
    "param_grid = {'n_neighbors': [1, 3, 5, 7, 9]}\n",
    "\n",
    "# Créer un modèle KNN\n",
    "model = KNeighborsClassifier()\n",
    "\n",
    "# Recherche du meilleur k en utilisant la validation croisée\n",
    "grid_search = GridSearchCV(model, param_grid, cv=5)\n",
    "grid_search.fit(X_train, y_train)\n",
    "\n",
    "# Obtenir les résultats de la validation croisée\n",
    "cv_results = grid_search.cv_results_\n",
    "\n",
    "# Afficher les résultats de la validation croisée\n",
    "for mean_score, params in zip(cv_results['mean_test_score'], cv_results['params']):\n",
    "    print(\"Mean Accuracy:\", mean_score, \"Parameters:\", params)\n",
    "\n",
    "# Obtenir le meilleur k\n",
    "best_k = grid_search.best_params_['n_neighbors']\n",
    "print(\"Best k:\", best_k)"
   ]
  },
  {
   "cell_type": "code",
   "execution_count": 7,
   "metadata": {},
   "outputs": [
    {
     "data": {
      "text/html": [
       "<style>#sk-container-id-1 {color: black;background-color: white;}#sk-container-id-1 pre{padding: 0;}#sk-container-id-1 div.sk-toggleable {background-color: white;}#sk-container-id-1 label.sk-toggleable__label {cursor: pointer;display: block;width: 100%;margin-bottom: 0;padding: 0.3em;box-sizing: border-box;text-align: center;}#sk-container-id-1 label.sk-toggleable__label-arrow:before {content: \"▸\";float: left;margin-right: 0.25em;color: #696969;}#sk-container-id-1 label.sk-toggleable__label-arrow:hover:before {color: black;}#sk-container-id-1 div.sk-estimator:hover label.sk-toggleable__label-arrow:before {color: black;}#sk-container-id-1 div.sk-toggleable__content {max-height: 0;max-width: 0;overflow: hidden;text-align: left;background-color: #f0f8ff;}#sk-container-id-1 div.sk-toggleable__content pre {margin: 0.2em;color: black;border-radius: 0.25em;background-color: #f0f8ff;}#sk-container-id-1 input.sk-toggleable__control:checked~div.sk-toggleable__content {max-height: 200px;max-width: 100%;overflow: auto;}#sk-container-id-1 input.sk-toggleable__control:checked~label.sk-toggleable__label-arrow:before {content: \"▾\";}#sk-container-id-1 div.sk-estimator input.sk-toggleable__control:checked~label.sk-toggleable__label {background-color: #d4ebff;}#sk-container-id-1 div.sk-label input.sk-toggleable__control:checked~label.sk-toggleable__label {background-color: #d4ebff;}#sk-container-id-1 input.sk-hidden--visually {border: 0;clip: rect(1px 1px 1px 1px);clip: rect(1px, 1px, 1px, 1px);height: 1px;margin: -1px;overflow: hidden;padding: 0;position: absolute;width: 1px;}#sk-container-id-1 div.sk-estimator {font-family: monospace;background-color: #f0f8ff;border: 1px dotted black;border-radius: 0.25em;box-sizing: border-box;margin-bottom: 0.5em;}#sk-container-id-1 div.sk-estimator:hover {background-color: #d4ebff;}#sk-container-id-1 div.sk-parallel-item::after {content: \"\";width: 100%;border-bottom: 1px solid gray;flex-grow: 1;}#sk-container-id-1 div.sk-label:hover label.sk-toggleable__label {background-color: #d4ebff;}#sk-container-id-1 div.sk-serial::before {content: \"\";position: absolute;border-left: 1px solid gray;box-sizing: border-box;top: 0;bottom: 0;left: 50%;z-index: 0;}#sk-container-id-1 div.sk-serial {display: flex;flex-direction: column;align-items: center;background-color: white;padding-right: 0.2em;padding-left: 0.2em;position: relative;}#sk-container-id-1 div.sk-item {position: relative;z-index: 1;}#sk-container-id-1 div.sk-parallel {display: flex;align-items: stretch;justify-content: center;background-color: white;position: relative;}#sk-container-id-1 div.sk-item::before, #sk-container-id-1 div.sk-parallel-item::before {content: \"\";position: absolute;border-left: 1px solid gray;box-sizing: border-box;top: 0;bottom: 0;left: 50%;z-index: -1;}#sk-container-id-1 div.sk-parallel-item {display: flex;flex-direction: column;z-index: 1;position: relative;background-color: white;}#sk-container-id-1 div.sk-parallel-item:first-child::after {align-self: flex-end;width: 50%;}#sk-container-id-1 div.sk-parallel-item:last-child::after {align-self: flex-start;width: 50%;}#sk-container-id-1 div.sk-parallel-item:only-child::after {width: 0;}#sk-container-id-1 div.sk-dashed-wrapped {border: 1px dashed gray;margin: 0 0.4em 0.5em 0.4em;box-sizing: border-box;padding-bottom: 0.4em;background-color: white;}#sk-container-id-1 div.sk-label label {font-family: monospace;font-weight: bold;display: inline-block;line-height: 1.2em;}#sk-container-id-1 div.sk-label-container {text-align: center;}#sk-container-id-1 div.sk-container {/* jupyter's `normalize.less` sets `[hidden] { display: none; }` but bootstrap.min.css set `[hidden] { display: none !important; }` so we also need the `!important` here to be able to override the default hidden behavior on the sphinx rendered scikit-learn.org. See: https://github.com/scikit-learn/scikit-learn/issues/21755 */display: inline-block !important;position: relative;}#sk-container-id-1 div.sk-text-repr-fallback {display: none;}</style><div id=\"sk-container-id-1\" class=\"sk-top-container\"><div class=\"sk-text-repr-fallback\"><pre>KNeighborsClassifier(n_neighbors=3)</pre><b>In a Jupyter environment, please rerun this cell to show the HTML representation or trust the notebook. <br />On GitHub, the HTML representation is unable to render, please try loading this page with nbviewer.org.</b></div><div class=\"sk-container\" hidden><div class=\"sk-item\"><div class=\"sk-estimator sk-toggleable\"><input class=\"sk-toggleable__control sk-hidden--visually\" id=\"sk-estimator-id-1\" type=\"checkbox\" checked><label for=\"sk-estimator-id-1\" class=\"sk-toggleable__label sk-toggleable__label-arrow\">KNeighborsClassifier</label><div class=\"sk-toggleable__content\"><pre>KNeighborsClassifier(n_neighbors=3)</pre></div></div></div></div></div>"
      ],
      "text/plain": [
       "KNeighborsClassifier(n_neighbors=3)"
      ]
     },
     "execution_count": 7,
     "metadata": {},
     "output_type": "execute_result"
    }
   ],
   "source": [
    "# Utiliser le meilleur k pour créer un modèle KNN final\n",
    "final_model = KNeighborsClassifier(n_neighbors=best_k)\n",
    "\n",
    "# Entraîner le modèle final sur les données d'entraînement\n",
    "final_model.fit(X_train, y_train)"
   ]
  },
  {
   "cell_type": "code",
   "execution_count": 8,
   "metadata": {},
   "outputs": [
    {
     "data": {
      "image/png": "[encoded data removed]",
      "text/plain": [
       "<Figure size 640x480 with 2 Axes>"
      ]
     },
     "metadata": {},
     "output_type": "display_data"
    },
    {
     "name": "stdout",
     "output_type": "stream",
     "text": [
      "Accuracy on valid dataset :  0.6944444444444444\n"
     ]
    }
   ],
   "source": [
    "y_pred = final_model.predict(X_valid)\n",
    "cm = confusion_matrix(y_valid,y_pred)\n",
    "disp_cm = ConfusionMatrixDisplay(confusion_matrix=cm)\n",
    "disp_cm.plot()\n",
    "plt.show()\n",
    "\n",
    "correct_predictions = cm.diagonal().sum()\n",
    "total_samples = cm.sum()\n",
    "accuracy = correct_predictions / total_samples\n",
    "print(f\"Accuracy on valid dataset : \", accuracy)"
   ]
  },
  {
   "cell_type": "code",
   "execution_count": 9,
   "metadata": {},
   "outputs": [
    {
     "data": {
      "image/png": "[encoded data removed]",
      "text/plain": [
       "<Figure size 640x480 with 2 Axes>"
      ]
     },
     "metadata": {},
     "output_type": "display_data"
    },
    {
     "name": "stdout",
     "output_type": "stream",
     "text": [
      "Accuracy on test dataset :  0.4857142857142857\n"
     ]
    }
   ],
   "source": [
    "y_pred = final_model.predict(X_test)\n",
    "cm = confusion_matrix(y_test,y_pred)\n",
    "disp_cm = ConfusionMatrixDisplay(confusion_matrix=cm)\n",
    "disp_cm.plot()\n",
    "plt.show()\n",
    "\n",
    "correct_predictions = cm.diagonal().sum()\n",
    "total_samples = cm.sum()\n",
    "accuracy = correct_predictions / total_samples\n",
    "print(f\"Accuracy on test dataset : \", accuracy)"
   ]
  },
  {
   "cell_type": "code",
   "execution_count": 10,
   "metadata": {},
   "outputs": [
    {
     "data": {
      "text/plain": [
       "['C:/Users/galse/DS50_SAMBA/models/knn.joblib']"
      ]
     },
     "execution_count": 10,
     "metadata": {},
     "output_type": "execute_result"
    }
   ],
   "source": [
    "# Sauvegarder le modèle final entraîné\n",
    "dump(final_model, 'C:/Users/galse/DS50_SAMBA/models/knn.joblib')"
   ]
  }
 ],
 "metadata": {
  "kernelspec": {
   "display_name": "Python 3",
   "language": "python",
   "name": "python3"
  },
  "language_info": {
   "codemirror_mode": {
    "name": "ipython",
    "version": 3
   },
   "file_extension": ".py",
   "mimetype": "text/x-python",
   "name": "python",
   "nbconvert_exporter": "python",
   "pygments_lexer": "ipython3",
   "version": "3.9.5"
  },
  "orig_nbformat": 4
 },
 "nbformat": 4,
 "nbformat_minor": 2
}
